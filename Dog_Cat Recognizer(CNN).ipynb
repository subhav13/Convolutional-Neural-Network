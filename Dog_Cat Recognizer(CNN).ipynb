{
 "cells": [
  {
   "cell_type": "code",
   "execution_count": 2,
   "metadata": {},
   "outputs": [
    {
     "name": "stderr",
     "output_type": "stream",
     "text": [
      "Using TensorFlow backend.\n"
     ]
    }
   ],
   "source": [
    "# importing the keras libraries and packages \n",
    "from keras.models import Sequential\n",
    "from keras.layers import Conv2D\n",
    "from keras.layers import MaxPooling2D,Dense, Flatten"
   ]
  },
  {
   "cell_type": "markdown",
   "metadata": {},
   "source": [
    "# INITIALIZING THE CNN"
   ]
  },
  {
   "cell_type": "code",
   "execution_count": 3,
   "metadata": {},
   "outputs": [],
   "source": [
    "classifier = Sequential()"
   ]
  },
  {
   "cell_type": "markdown",
   "metadata": {},
   "source": [
    "# STEP 1 : CONVOLUTION AND POOLING"
   ]
  },
  {
   "cell_type": "code",
   "execution_count": 4,
   "metadata": {},
   "outputs": [
    {
     "name": "stdout",
     "output_type": "stream",
     "text": [
      "WARNING:tensorflow:From C:\\Users\\User\\Anaconda3\\lib\\site-packages\\tensorflow\\python\\framework\\op_def_library.py:263: colocate_with (from tensorflow.python.framework.ops) is deprecated and will be removed in a future version.\n",
      "Instructions for updating:\n",
      "Colocations handled automatically by placer.\n"
     ]
    }
   ],
   "source": [
    "classifier.add(Conv2D(32,(3,3),input_shape = (64,64,3),activation='relu'))\n",
    "classifier.add(MaxPooling2D(pool_size = (2,2)))"
   ]
  },
  {
   "cell_type": "markdown",
   "metadata": {},
   "source": [
    "# ADDING A SECOND CONVOLUTIONAL LAYER"
   ]
  },
  {
   "cell_type": "code",
   "execution_count": 5,
   "metadata": {},
   "outputs": [],
   "source": [
    "classifier.add(Conv2D(32,(3,3),activation='relu'))\n",
    "classifier.add(MaxPooling2D(pool_size = (2,2)))"
   ]
  },
  {
   "cell_type": "markdown",
   "metadata": {},
   "source": [
    "   # STEP 2 : FLATTENING"
   ]
  },
  {
   "cell_type": "code",
   "execution_count": 6,
   "metadata": {},
   "outputs": [],
   "source": [
    "classifier.add(Flatten())"
   ]
  },
  {
   "cell_type": "markdown",
   "metadata": {},
   "source": [
    "# STEP 3 : FULL CONNECTION "
   ]
  },
  {
   "cell_type": "code",
   "execution_count": 7,
   "metadata": {},
   "outputs": [
    {
     "name": "stdout",
     "output_type": "stream",
     "text": [
      "Found 8000 images belonging to 2 classes.\n",
      "Found 2000 images belonging to 2 classes.\n",
      "WARNING:tensorflow:From C:\\Users\\User\\Anaconda3\\lib\\site-packages\\tensorflow\\python\\ops\\math_ops.py:3066: to_int32 (from tensorflow.python.ops.math_ops) is deprecated and will be removed in a future version.\n",
      "Instructions for updating:\n",
      "Use tf.cast instead.\n",
      "Epoch 1/25\n",
      "250/250 [==============================] - 369s 1s/step - loss: 0.6653 - acc: 0.5871 - val_loss: 0.6039 - val_acc: 0.6715\n",
      "Epoch 2/25\n",
      "250/250 [==============================] - 55s 222ms/step - loss: 0.6053 - acc: 0.6717 - val_loss: 0.5744 - val_acc: 0.6855\n",
      "Epoch 3/25\n",
      "250/250 [==============================] - 38s 154ms/step - loss: 0.5644 - acc: 0.7066 - val_loss: 0.5490 - val_acc: 0.7205\n",
      "Epoch 4/25\n",
      "250/250 [==============================] - 38s 154ms/step - loss: 0.5361 - acc: 0.7296 - val_loss: 0.5287 - val_acc: 0.7405\n",
      "Epoch 5/25\n",
      "250/250 [==============================] - 38s 152ms/step - loss: 0.5062 - acc: 0.7514 - val_loss: 0.5155 - val_acc: 0.7455\n",
      "Epoch 6/25\n",
      "250/250 [==============================] - 39s 154ms/step - loss: 0.4903 - acc: 0.7590 - val_loss: 0.5384 - val_acc: 0.7455\n",
      "Epoch 7/25\n",
      "250/250 [==============================] - 38s 153ms/step - loss: 0.4715 - acc: 0.7736 - val_loss: 0.4761 - val_acc: 0.7715\n",
      "Epoch 8/25\n",
      "250/250 [==============================] - 38s 153ms/step - loss: 0.4512 - acc: 0.7869 - val_loss: 0.4715 - val_acc: 0.7855\n",
      "Epoch 9/25\n",
      "250/250 [==============================] - 38s 151ms/step - loss: 0.4337 - acc: 0.7930 - val_loss: 0.6103 - val_acc: 0.7335\n",
      "Epoch 10/25\n",
      "250/250 [==============================] - 38s 151ms/step - loss: 0.4238 - acc: 0.8043 - val_loss: 0.4698 - val_acc: 0.7850\n",
      "Epoch 11/25\n",
      "250/250 [==============================] - 38s 152ms/step - loss: 0.4154 - acc: 0.8096 - val_loss: 0.4475 - val_acc: 0.7980\n",
      "Epoch 12/25\n",
      "250/250 [==============================] - 38s 151ms/step - loss: 0.3928 - acc: 0.8209 - val_loss: 0.4361 - val_acc: 0.8120\n",
      "Epoch 13/25\n",
      "250/250 [==============================] - 72s 289ms/step - loss: 0.3788 - acc: 0.8296 - val_loss: 0.5307 - val_acc: 0.7465\n",
      "Epoch 14/25\n",
      "250/250 [==============================] - 42s 169ms/step - loss: 0.3673 - acc: 0.8340 - val_loss: 0.4475 - val_acc: 0.8020\n",
      "Epoch 15/25\n",
      "250/250 [==============================] - 41s 165ms/step - loss: 0.3499 - acc: 0.8425 - val_loss: 0.4626 - val_acc: 0.7925\n",
      "Epoch 16/25\n",
      "250/250 [==============================] - 50s 198ms/step - loss: 0.3368 - acc: 0.8499 - val_loss: 0.4587 - val_acc: 0.8060\n",
      "Epoch 17/25\n",
      "250/250 [==============================] - 61s 244ms/step - loss: 0.3121 - acc: 0.8660 - val_loss: 0.5837 - val_acc: 0.7550\n",
      "Epoch 18/25\n",
      "250/250 [==============================] - 38s 153ms/step - loss: 0.3136 - acc: 0.8601 - val_loss: 0.4762 - val_acc: 0.8050\n",
      "Epoch 19/25\n",
      "250/250 [==============================] - 38s 152ms/step - loss: 0.2915 - acc: 0.8746 - val_loss: 0.4679 - val_acc: 0.8065\n",
      "Epoch 20/25\n",
      "250/250 [==============================] - 38s 152ms/step - loss: 0.2744 - acc: 0.8802 - val_loss: 0.5329 - val_acc: 0.7855\n",
      "Epoch 21/25\n",
      "250/250 [==============================] - 38s 152ms/step - loss: 0.2612 - acc: 0.8878 - val_loss: 0.4901 - val_acc: 0.8060\n",
      "Epoch 22/25\n",
      "250/250 [==============================] - 38s 152ms/step - loss: 0.2416 - acc: 0.8995 - val_loss: 0.4938 - val_acc: 0.8020\n",
      "Epoch 23/25\n",
      "250/250 [==============================] - 38s 151ms/step - loss: 0.2423 - acc: 0.9002 - val_loss: 0.5081 - val_acc: 0.8085\n",
      "Epoch 24/25\n",
      "250/250 [==============================] - 38s 151ms/step - loss: 0.2210 - acc: 0.9080 - val_loss: 0.5198 - val_acc: 0.8050\n",
      "Epoch 25/25\n",
      "250/250 [==============================] - 38s 153ms/step - loss: 0.2179 - acc: 0.9114 - val_loss: 0.6260 - val_acc: 0.7805\n"
     ]
    },
    {
     "data": {
      "text/plain": [
       "<keras.callbacks.History at 0x2ad6631cef0>"
      ]
     },
     "execution_count": 7,
     "metadata": {},
     "output_type": "execute_result"
    }
   ],
   "source": [
    "classifier.add(Dense(units = 128, activation = 'relu'))\n",
    "classifier.add(Dense(units = 1, activation = 'sigmoid'))\n",
    "\n",
    "# Compiling the CNN\n",
    "classifier.compile(optimizer = 'adam', loss = 'binary_crossentropy', metrics = ['accuracy'])\n",
    "\n",
    "# Part 2 - Fitting the CNN to the images\n",
    "\n",
    "from keras.preprocessing.image import ImageDataGenerator\n",
    "\n",
    "train_datagen = ImageDataGenerator(rescale = 1./255,\n",
    "                                   shear_range = 0.2,\n",
    "                                   zoom_range = 0.2,\n",
    "                                   horizontal_flip = True)\n",
    "\n",
    "test_datagen = ImageDataGenerator(rescale = 1./255)\n",
    "\n",
    "training_set = train_datagen.flow_from_directory('dataset/training_set',\n",
    "                                                 target_size = (64, 64),\n",
    "                                                 batch_size = 32,\n",
    "                                                 class_mode = 'binary')\n",
    "\n",
    "test_set = test_datagen.flow_from_directory('dataset/test_set',\n",
    "                                            target_size = (64, 64),\n",
    "                                            batch_size = 32,\n",
    "                                            class_mode = 'binary')\n",
    "\n",
    "classifier.fit_generator(training_set,\n",
    "                         steps_per_epoch = 250,\n",
    "                         epochs = 25,\n",
    "                         validation_data = test_set,\n",
    "                         validation_steps = 63)\n",
    "\n"
   ]
  },
  {
   "cell_type": "code",
   "execution_count": null,
   "metadata": {},
   "outputs": [],
   "source": []
  },
  {
   "cell_type": "code",
   "execution_count": null,
   "metadata": {},
   "outputs": [],
   "source": []
  }
 ],
 "metadata": {
  "kernelspec": {
   "display_name": "Python 3",
   "language": "python",
   "name": "python3"
  },
  "language_info": {
   "codemirror_mode": {
    "name": "ipython",
    "version": 3
   },
   "file_extension": ".py",
   "mimetype": "text/x-python",
   "name": "python",
   "nbconvert_exporter": "python",
   "pygments_lexer": "ipython3",
   "version": "3.7.3"
  },
  "varInspector": {
   "cols": {
    "lenName": 16,
    "lenType": 16,
    "lenVar": 40
   },
   "kernels_config": {
    "python": {
     "delete_cmd_postfix": "",
     "delete_cmd_prefix": "del ",
     "library": "var_list.py",
     "varRefreshCmd": "print(var_dic_list())"
    },
    "r": {
     "delete_cmd_postfix": ") ",
     "delete_cmd_prefix": "rm(",
     "library": "var_list.r",
     "varRefreshCmd": "cat(var_dic_list()) "
    }
   },
   "types_to_exclude": [
    "module",
    "function",
    "builtin_function_or_method",
    "instance",
    "_Feature"
   ],
   "window_display": false
  }
 },
 "nbformat": 4,
 "nbformat_minor": 2
}
